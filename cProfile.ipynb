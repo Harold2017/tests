{
 "cells": [
  {
   "cell_type": "code",
   "execution_count": 1,
   "metadata": {},
   "outputs": [
    {
     "name": "stdout",
     "output_type": "stream",
     "text": [
      "         29860706 function calls (4 primitive calls) in 6.817 seconds\n",
      "\n",
      "   Ordered by: standard name\n",
      "\n",
      "   ncalls  tottime  percall  cumtime  percall filename:lineno(function)\n",
      "29860703/1    6.817    0.000    6.817    6.817 <ipython-input-1-4eb34d92892a>:4(fib)\n",
      "        1    0.000    0.000    6.817    6.817 <string>:1(<module>)\n",
      "        1    0.000    0.000    6.817    6.817 {built-in method builtins.exec}\n",
      "        1    0.000    0.000    0.000    0.000 {method 'disable' of '_lsprof.Profiler' objects}\n",
      "\n",
      "\n",
      "         41 function calls in 0.000 seconds\n",
      "\n",
      "   Ordered by: standard name\n",
      "\n",
      "   ncalls  tottime  percall  cumtime  percall filename:lineno(function)\n",
      "       37    0.000    0.000    0.000    0.000 <ipython-input-1-4eb34d92892a>:10(f)\n",
      "        1    0.000    0.000    0.000    0.000 <ipython-input-1-4eb34d92892a>:9(Y_fib)\n",
      "        1    0.000    0.000    0.000    0.000 <string>:1(<module>)\n",
      "        1    0.000    0.000    0.000    0.000 {built-in method builtins.exec}\n",
      "        1    0.000    0.000    0.000    0.000 {method 'disable' of '_lsprof.Profiler' objects}\n",
      "\n",
      "\n"
     ]
    }
   ],
   "source": [
    "import cProfile\n",
    "\n",
    "\n",
    "def fib(num):\n",
    "    if num > 1:\n",
    "        return fib(num - 1) + fib(num - 2)\n",
    "    return num\n",
    "\n",
    "def Y_fib(num):\n",
    "    def f():\n",
    "        a, b = 0, 1\n",
    "        while True:\n",
    "            yield a\n",
    "            a, b = b, a + b\n",
    "    return list(zip(range(num + 1), f()))[-1][1]\n",
    "        \n",
    "    \n",
    "cProfile.run('fib(35)')\n",
    "\n",
    "cProfile.run('Y_fib(35)')"
   ]
  },
  {
   "cell_type": "code",
   "execution_count": 2,
   "metadata": {},
   "outputs": [
    {
     "data": {
      "text/plain": [
       "scputimes(user=3748.53, nice=478.08, system=3368.03, idle=367097.99, iowait=293.32, irq=0.0, softirq=81.69, steal=0.0, guest=0.0, guest_nice=0.0)"
      ]
     },
     "execution_count": 2,
     "metadata": {},
     "output_type": "execute_result"
    }
   ],
   "source": [
    "import psutil\n",
    "\n",
    "\n",
    "# https://www.cnblogs.com/liu-yao/p/5678157.html\n",
    "psutil.cpu_times()"
   ]
  },
  {
   "cell_type": "code",
   "execution_count": 3,
   "metadata": {},
   "outputs": [
    {
     "data": {
      "text/plain": [
       "[scputimes(user=1895.73, nice=230.18, system=1662.29, idle=183722.54, iowait=147.27, irq=0.0, softirq=33.31, steal=0.0, guest=0.0, guest_nice=0.0),\n",
       " scputimes(user=1852.8, nice=247.89, system=1705.74, idle=183375.45, iowait=146.04, irq=0.0, softirq=48.37, steal=0.0, guest=0.0, guest_nice=0.0)]"
      ]
     },
     "execution_count": 3,
     "metadata": {},
     "output_type": "execute_result"
    }
   ],
   "source": [
    "psutil.cpu_times(percpu=True)"
   ]
  },
  {
   "cell_type": "code",
   "execution_count": 4,
   "metadata": {},
   "outputs": [
    {
     "data": {
      "text/plain": [
       "2"
      ]
     },
     "execution_count": 4,
     "metadata": {},
     "output_type": "execute_result"
    }
   ],
   "source": [
    "psutil.cpu_count()"
   ]
  },
  {
   "cell_type": "code",
   "execution_count": 5,
   "metadata": {},
   "outputs": [
    {
     "data": {
      "text/plain": [
       "2"
      ]
     },
     "execution_count": 5,
     "metadata": {},
     "output_type": "execute_result"
    }
   ],
   "source": [
    "psutil.cpu_count(logical=False)"
   ]
  },
  {
   "cell_type": "code",
   "execution_count": 6,
   "metadata": {},
   "outputs": [
    {
     "data": {
      "text/plain": [
       "svmem(total=4112830464, available=1146585088, percent=72.1, used=2595430400, free=284602368, active=2406289408, inactive=903729152, buffers=273002496, cached=959795200, shared=121491456, slab=172703744)"
      ]
     },
     "execution_count": 6,
     "metadata": {},
     "output_type": "execute_result"
    }
   ],
   "source": [
    "mem = psutil.virtual_memory()\n",
    "mem"
   ]
  },
  {
   "cell_type": "code",
   "execution_count": 7,
   "metadata": {},
   "outputs": [
    {
     "data": {
      "text/plain": [
       "sswap(total=1071640576, used=9973760, free=1061666816, percent=0.9, sin=0, sout=9678848)"
      ]
     },
     "execution_count": 7,
     "metadata": {},
     "output_type": "execute_result"
    }
   ],
   "source": [
    "psutil.swap_memory()"
   ]
  },
  {
   "cell_type": "code",
   "execution_count": 8,
   "metadata": {},
   "outputs": [
    {
     "data": {
      "text/plain": [
       "sdiskio(read_count=90341, write_count=57872, read_bytes=2016250880, write_bytes=2662338560, read_time=690868, write_time=4900088, read_merged_count=11910, write_merged_count=120129, busy_time=388580)"
      ]
     },
     "execution_count": 8,
     "metadata": {},
     "output_type": "execute_result"
    }
   ],
   "source": [
    "psutil.disk_io_counters()"
   ]
  },
  {
   "cell_type": "code",
   "execution_count": 9,
   "metadata": {},
   "outputs": [
    {
     "data": {
      "text/plain": [
       "{'sr0': sdiskio(read_count=0, write_count=0, read_bytes=0, write_bytes=0, read_time=0, write_time=0, read_merged_count=0, write_merged_count=0, busy_time=0),\n",
       " 'sda1': sdiskio(read_count=90295, write_count=57800, read_bytes=2013991936, write_bytes=2652749824, read_time=690336, write_time=4892128, read_merged_count=11910, write_merged_count=117854, busy_time=386188),\n",
       " 'sda2': sdiskio(read_count=2, write_count=0, read_bytes=2048, write_bytes=0, read_time=96, write_time=0, read_merged_count=0, write_merged_count=0, busy_time=96),\n",
       " 'sda5': sdiskio(read_count=44, write_count=80, read_bytes=2256896, write_bytes=9678848, read_time=436, write_time=7972, read_merged_count=0, write_merged_count=2283, busy_time=2308)}"
      ]
     },
     "execution_count": 9,
     "metadata": {},
     "output_type": "execute_result"
    }
   ],
   "source": [
    "psutil.disk_io_counters(perdisk=True)"
   ]
  },
  {
   "cell_type": "code",
   "execution_count": 10,
   "metadata": {},
   "outputs": [
    {
     "data": {
      "text/plain": [
       "[sdiskpart(device='/dev/sda1', mountpoint='/', fstype='ext4', opts='rw,relatime,errors=remount-ro,data=ordered')]"
      ]
     },
     "execution_count": 10,
     "metadata": {},
     "output_type": "execute_result"
    }
   ],
   "source": [
    "psutil.disk_partitions()"
   ]
  },
  {
   "cell_type": "code",
   "execution_count": 11,
   "metadata": {},
   "outputs": [
    {
     "data": {
      "text/plain": [
       "sdiskusage(total=19945680896, used=17180856320, free=1728045056, percent=90.9)"
      ]
     },
     "execution_count": 11,
     "metadata": {},
     "output_type": "execute_result"
    }
   ],
   "source": [
    "psutil.disk_usage('/')"
   ]
  },
  {
   "cell_type": "code",
   "execution_count": 12,
   "metadata": {},
   "outputs": [
    {
     "data": {
      "text/plain": [
       "snetio(bytes_sent=98788853, bytes_recv=284486871, packets_sent=97833, packets_recv=190090, errin=0, errout=0, dropin=0, dropout=0)"
      ]
     },
     "execution_count": 12,
     "metadata": {},
     "output_type": "execute_result"
    }
   ],
   "source": [
    "psutil.net_io_counters()"
   ]
  },
  {
   "cell_type": "code",
   "execution_count": 13,
   "metadata": {},
   "outputs": [
    {
     "data": {
      "text/plain": [
       "{'ens33': snetio(bytes_sent=6653595, bytes_recv=192351613, packets_sent=75777, packets_recv=168034, errin=0, errout=0, dropin=0, dropout=0),\n",
       " 'docker0': snetio(bytes_sent=0, bytes_recv=0, packets_sent=0, packets_recv=0, errin=0, errout=0, dropin=0, dropout=0),\n",
       " 'lo': snetio(bytes_sent=92145356, bytes_recv=92145356, packets_sent=22080, packets_recv=22080, errin=0, errout=0, dropin=0, dropout=0)}"
      ]
     },
     "execution_count": 13,
     "metadata": {},
     "output_type": "execute_result"
    }
   ],
   "source": [
    "psutil.net_io_counters(pernic=True)"
   ]
  },
  {
   "cell_type": "code",
   "execution_count": 14,
   "metadata": {},
   "outputs": [
    {
     "data": {
      "text/plain": [
       "[suser(name='harold', terminal='tty7', host='localhost', started=1525232000.0, pid=2365)]"
      ]
     },
     "execution_count": 14,
     "metadata": {},
     "output_type": "execute_result"
    }
   ],
   "source": [
    "psutil.users()"
   ]
  },
  {
   "cell_type": "code",
   "execution_count": 15,
   "metadata": {},
   "outputs": [
    {
     "data": {
      "text/plain": [
       "1525226343.0"
      ]
     },
     "execution_count": 15,
     "metadata": {},
     "output_type": "execute_result"
    }
   ],
   "source": [
    "psutil.boot_time()"
   ]
  },
  {
   "cell_type": "code",
   "execution_count": 16,
   "metadata": {
    "scrolled": true
   },
   "outputs": [
    {
     "data": {
      "text/plain": [
       "[1,\n",
       " 2,\n",
       " 4,\n",
       " 6,\n",
       " 7,\n",
       " 8,\n",
       " 9,\n",
       " 10,\n",
       " 11,\n",
       " 12,\n",
       " 13,\n",
       " 14,\n",
       " 15,\n",
       " 16,\n",
       " 18,\n",
       " 19,\n",
       " 20,\n",
       " 22,\n",
       " 23,\n",
       " 24,\n",
       " 25,\n",
       " 26,\n",
       " 27,\n",
       " 28,\n",
       " 29,\n",
       " 30,\n",
       " 31,\n",
       " 32,\n",
       " 33,\n",
       " 34,\n",
       " 35,\n",
       " 39,\n",
       " 40,\n",
       " 41,\n",
       " 83,\n",
       " 84,\n",
       " 85,\n",
       " 86,\n",
       " 87,\n",
       " 88,\n",
       " 94,\n",
       " 119,\n",
       " 169,\n",
       " 170,\n",
       " 171,\n",
       " 172,\n",
       " 173,\n",
       " 174,\n",
       " 175,\n",
       " 176,\n",
       " 177,\n",
       " 178,\n",
       " 179,\n",
       " 180,\n",
       " 181,\n",
       " 182,\n",
       " 183,\n",
       " 184,\n",
       " 185,\n",
       " 186,\n",
       " 187,\n",
       " 188,\n",
       " 189,\n",
       " 190,\n",
       " 191,\n",
       " 192,\n",
       " 193,\n",
       " 194,\n",
       " 195,\n",
       " 196,\n",
       " 197,\n",
       " 198,\n",
       " 199,\n",
       " 200,\n",
       " 201,\n",
       " 202,\n",
       " 203,\n",
       " 204,\n",
       " 205,\n",
       " 206,\n",
       " 207,\n",
       " 208,\n",
       " 209,\n",
       " 210,\n",
       " 211,\n",
       " 212,\n",
       " 213,\n",
       " 214,\n",
       " 215,\n",
       " 216,\n",
       " 217,\n",
       " 218,\n",
       " 219,\n",
       " 220,\n",
       " 221,\n",
       " 222,\n",
       " 223,\n",
       " 224,\n",
       " 225,\n",
       " 226,\n",
       " 227,\n",
       " 228,\n",
       " 229,\n",
       " 230,\n",
       " 259,\n",
       " 260,\n",
       " 262,\n",
       " 264,\n",
       " 266,\n",
       " 288,\n",
       " 289,\n",
       " 320,\n",
       " 345,\n",
       " 446,\n",
       " 591,\n",
       " 777,\n",
       " 779,\n",
       " 782,\n",
       " 783,\n",
       " 784,\n",
       " 787,\n",
       " 870,\n",
       " 882,\n",
       " 961,\n",
       " 1024,\n",
       " 1046,\n",
       " 1102,\n",
       " 1114,\n",
       " 1136,\n",
       " 1223,\n",
       " 1286,\n",
       " 1303,\n",
       " 1522,\n",
       " 1652,\n",
       " 1914,\n",
       " 1957,\n",
       " 1979,\n",
       " 2357,\n",
       " 2358,\n",
       " 2363,\n",
       " 2365,\n",
       " 2441,\n",
       " 2451,\n",
       " 2463,\n",
       " 2486,\n",
       " 2488,\n",
       " 2492,\n",
       " 2497,\n",
       " 2506,\n",
       " 2512,\n",
       " 2514,\n",
       " 2527,\n",
       " 2534,\n",
       " 2550,\n",
       " 2556,\n",
       " 2561,\n",
       " 2562,\n",
       " 2565,\n",
       " 2572,\n",
       " 2582,\n",
       " 2584,\n",
       " 2602,\n",
       " 2610,\n",
       " 2637,\n",
       " 2638,\n",
       " 2639,\n",
       " 2640,\n",
       " 2641,\n",
       " 2642,\n",
       " 2643,\n",
       " 2644,\n",
       " 2652,\n",
       " 2708,\n",
       " 2719,\n",
       " 2736,\n",
       " 2779,\n",
       " 2783,\n",
       " 2784,\n",
       " 2785,\n",
       " 2793,\n",
       " 2801,\n",
       " 2806,\n",
       " 2816,\n",
       " 2837,\n",
       " 2844,\n",
       " 2851,\n",
       " 2859,\n",
       " 2866,\n",
       " 2868,\n",
       " 2895,\n",
       " 2909,\n",
       " 2911,\n",
       " 2933,\n",
       " 2943,\n",
       " 2985,\n",
       " 3023,\n",
       " 3055,\n",
       " 3062,\n",
       " 3066,\n",
       " 3079,\n",
       " 3101,\n",
       " 3142,\n",
       " 3187,\n",
       " 3253,\n",
       " 3423,\n",
       " 3476,\n",
       " 3517,\n",
       " 6273,\n",
       " 6509,\n",
       " 6511,\n",
       " 6575,\n",
       " 6581,\n",
       " 26196,\n",
       " 26197,\n",
       " 26223,\n",
       " 28220,\n",
       " 28227,\n",
       " 28257,\n",
       " 28305,\n",
       " 28481,\n",
       " 31147,\n",
       " 31154,\n",
       " 31507,\n",
       " 33738,\n",
       " 33761,\n",
       " 33785,\n",
       " 33849,\n",
       " 34005,\n",
       " 34163,\n",
       " 34167,\n",
       " 34249,\n",
       " 34255,\n",
       " 34302,\n",
       " 34438,\n",
       " 35226,\n",
       " 35342]"
      ]
     },
     "execution_count": 16,
     "metadata": {},
     "output_type": "execute_result"
    }
   ],
   "source": [
    "psutil.pids()"
   ]
  },
  {
   "cell_type": "code",
   "execution_count": 17,
   "metadata": {},
   "outputs": [
    {
     "data": {
      "text/plain": [
       "'harold'"
      ]
     },
     "execution_count": 17,
     "metadata": {},
     "output_type": "execute_result"
    }
   ],
   "source": [
    "# psutil的Popen方法启动应用程序，可以跟踪程序的相关信息\n",
    "from subprocess import PIPE\n",
    "p = psutil.Popen([\"/usr/bin/python\", \"-c\", \"print('hello')\"],stdout=PIPE)\n",
    "p.name()\n",
    "p.username()"
   ]
  },
  {
   "cell_type": "code",
   "execution_count": 18,
   "metadata": {},
   "outputs": [
    {
     "data": {
      "text/plain": [
       "35365"
      ]
     },
     "execution_count": 18,
     "metadata": {},
     "output_type": "execute_result"
    }
   ],
   "source": [
    "p.pid"
   ]
  },
  {
   "cell_type": "code",
   "execution_count": 19,
   "metadata": {},
   "outputs": [
    {
     "ename": "AttributeError",
     "evalue": "'Process' object has no attribute 'connectios'",
     "output_type": "error",
     "traceback": [
      "\u001b[0;31m---------------------------------------------------------------------------\u001b[0m",
      "\u001b[0;31mAttributeError\u001b[0m                            Traceback (most recent call last)",
      "\u001b[0;32m<ipython-input-19-9ecd1448f6c4>\u001b[0m in \u001b[0;36m<module>\u001b[0;34m()\u001b[0m\n\u001b[1;32m     12\u001b[0m \u001b[0mp\u001b[0m\u001b[0;34m.\u001b[0m\u001b[0mmemory_info\u001b[0m\u001b[0;34m(\u001b[0m\u001b[0;34m)\u001b[0m    \u001b[0;31m#进程内存rss,vms信息\u001b[0m\u001b[0;34m\u001b[0m\u001b[0m\n\u001b[1;32m     13\u001b[0m \u001b[0mp\u001b[0m\u001b[0;34m.\u001b[0m\u001b[0mio_counters\u001b[0m\u001b[0;34m(\u001b[0m\u001b[0;34m)\u001b[0m    \u001b[0;31m#进程的IO信息,包括读写IO数字及参数\u001b[0m\u001b[0;34m\u001b[0m\u001b[0m\n\u001b[0;32m---> 14\u001b[0;31m \u001b[0mp\u001b[0m\u001b[0;34m.\u001b[0m\u001b[0mconnectios\u001b[0m\u001b[0;34m(\u001b[0m\u001b[0;34m)\u001b[0m   \u001b[0;31m#返回进程列表\u001b[0m\u001b[0;34m\u001b[0m\u001b[0m\n\u001b[0m\u001b[1;32m     15\u001b[0m \u001b[0mp\u001b[0m\u001b[0;34m.\u001b[0m\u001b[0mnum_threads\u001b[0m\u001b[0;34m(\u001b[0m\u001b[0;34m)\u001b[0m  \u001b[0;31m#进程开启的线程数\u001b[0m\u001b[0;34m\u001b[0m\u001b[0m\n",
      "\u001b[0;31mAttributeError\u001b[0m: 'Process' object has no attribute 'connectios'"
     ]
    }
   ],
   "source": [
    "p = psutil.Process(2527) \n",
    "p.name()   #进程名\n",
    "p.exe()    #进程的bin路径\n",
    "p.cwd()    #进程的工作目录绝对路径\n",
    "p.status()   #进程状态\n",
    "p.create_time()  #进程创建时间\n",
    "p.uids()    #进程uid信息\n",
    "p.gids()    #进程的gid信息\n",
    "p.cpu_times()   #进程的cpu时间信息,包括user,system两个cpu信息\n",
    "p.cpu_affinity()  #get进程cpu亲和度,如果要设置cpu亲和度,将cpu号作为参考就好\n",
    "p.memory_percent()  #进程内存利用率\n",
    "p.memory_info()    #进程内存rss,vms信息\n",
    "p.io_counters()    #进程的IO信息,包括读写IO数字及参数\n",
    "p.connectios()   #返回进程列表\n",
    "p.num_threads()  #进程开启的线程数"
   ]
  },
  {
   "cell_type": "code",
   "execution_count": 2,
   "metadata": {},
   "outputs": [],
   "source": [
    "# Memory profile\n",
    "# http://ihorbobak.com/index.php/2018/02/22/python-process-memory-profiling/\n",
    "import time\n",
    "import os\n",
    "import psutil\n",
    " \n",
    " \n",
    "def elapsed_since(start):\n",
    "    return time.strftime(\"%H:%M:%S\", time.gmtime(time.time() - start))\n",
    " \n",
    " \n",
    "def get_process_memory():\n",
    "    process = psutil.Process(os.getpid())\n",
    "    return process.memory_info().rss\n",
    " \n",
    " \n",
    "def profile(func):\n",
    "    def wrapper(*args, **kwargs):\n",
    "        mem_before = get_process_memory()\n",
    "        start = time.time()\n",
    "        result = func(*args, **kwargs)\n",
    "        elapsed_time = elapsed_since(start)\n",
    "        mem_after = get_process_memory()\n",
    "        print(\"{}: memory before: {:,}, after: {:,}, consumed: {:,}; exec time: {}\".format(\n",
    "            func.__name__,\n",
    "            mem_before, mem_after, mem_after - mem_before,\n",
    "            elapsed_time))\n",
    "        return result\n",
    "    return wrapper"
   ]
  },
  {
   "cell_type": "code",
   "execution_count": 6,
   "metadata": {},
   "outputs": [],
   "source": [
    "@profile\n",
    "def fib(num):\n",
    "    if num > 1:\n",
    "        return fib(num - 1) + fib(num - 2)\n",
    "    return num\n",
    "\n",
    "\n",
    "@profile\n",
    "def Y_fib(num):\n",
    "    def f():\n",
    "        a, b = 0, 1\n",
    "        while True:\n",
    "            yield a\n",
    "            a, b = b, a + b\n",
    "    return list(zip(range(num + 1), f()))[-1][1]"
   ]
  },
  {
   "cell_type": "code",
   "execution_count": 7,
   "metadata": {},
   "outputs": [
    {
     "name": "stdout",
     "output_type": "stream",
     "text": [
      "fib: memory before: 45,588,480, after: 45,588,480, consumed: 0; exec time: 00:00:00\n",
      "fib: memory before: 45,588,480, after: 45,588,480, consumed: 0; exec time: 00:00:00\n",
      "fib: memory before: 45,588,480, after: 45,588,480, consumed: 0; exec time: 00:00:00\n",
      "fib: memory before: 45,588,480, after: 45,588,480, consumed: 0; exec time: 00:00:00\n",
      "fib: memory before: 45,588,480, after: 45,588,480, consumed: 0; exec time: 00:00:00\n",
      "fib: memory before: 45,588,480, after: 45,588,480, consumed: 0; exec time: 00:00:00\n",
      "fib: memory before: 45,588,480, after: 45,588,480, consumed: 0; exec time: 00:00:00\n",
      "fib: memory before: 45,588,480, after: 45,588,480, consumed: 0; exec time: 00:00:00\n",
      "fib: memory before: 45,588,480, after: 45,588,480, consumed: 0; exec time: 00:00:00\n",
      "fib: memory before: 45,588,480, after: 45,588,480, consumed: 0; exec time: 00:00:00\n",
      "fib: memory before: 45,588,480, after: 45,588,480, consumed: 0; exec time: 00:00:00\n",
      "fib: memory before: 45,588,480, after: 45,588,480, consumed: 0; exec time: 00:00:00\n",
      "fib: memory before: 45,588,480, after: 45,588,480, consumed: 0; exec time: 00:00:00\n",
      "fib: memory before: 45,588,480, after: 45,588,480, consumed: 0; exec time: 00:00:00\n",
      "fib: memory before: 45,588,480, after: 45,588,480, consumed: 0; exec time: 00:00:00\n",
      "fib: memory before: 45,588,480, after: 45,588,480, consumed: 0; exec time: 00:00:00\n",
      "fib: memory before: 45,588,480, after: 45,588,480, consumed: 0; exec time: 00:00:00\n",
      "fib: memory before: 45,588,480, after: 45,588,480, consumed: 0; exec time: 00:00:00\n",
      "fib: memory before: 45,588,480, after: 45,588,480, consumed: 0; exec time: 00:00:00\n",
      "fib: memory before: 45,588,480, after: 45,588,480, consumed: 0; exec time: 00:00:00\n",
      "fib: memory before: 45,588,480, after: 45,588,480, consumed: 0; exec time: 00:00:00\n",
      "fib: memory before: 45,588,480, after: 45,588,480, consumed: 0; exec time: 00:00:00\n",
      "fib: memory before: 45,588,480, after: 45,588,480, consumed: 0; exec time: 00:00:00\n",
      "fib: memory before: 45,588,480, after: 45,588,480, consumed: 0; exec time: 00:00:00\n",
      "fib: memory before: 45,588,480, after: 45,588,480, consumed: 0; exec time: 00:00:00\n",
      "fib: memory before: 45,588,480, after: 45,588,480, consumed: 0; exec time: 00:00:00\n",
      "fib: memory before: 45,588,480, after: 45,588,480, consumed: 0; exec time: 00:00:00\n",
      "fib: memory before: 45,588,480, after: 45,588,480, consumed: 0; exec time: 00:00:00\n",
      "fib: memory before: 45,588,480, after: 45,588,480, consumed: 0; exec time: 00:00:00\n",
      "fib: memory before: 45,588,480, after: 45,588,480, consumed: 0; exec time: 00:00:00\n",
      "fib: memory before: 45,588,480, after: 45,588,480, consumed: 0; exec time: 00:00:00\n",
      "fib: memory before: 45,588,480, after: 45,588,480, consumed: 0; exec time: 00:00:00\n",
      "fib: memory before: 45,588,480, after: 45,588,480, consumed: 0; exec time: 00:00:00\n",
      "fib: memory before: 45,588,480, after: 45,588,480, consumed: 0; exec time: 00:00:00\n",
      "fib: memory before: 45,588,480, after: 45,588,480, consumed: 0; exec time: 00:00:00\n",
      "fib: memory before: 45,588,480, after: 45,588,480, consumed: 0; exec time: 00:00:00\n",
      "fib: memory before: 45,588,480, after: 45,588,480, consumed: 0; exec time: 00:00:00\n",
      "fib: memory before: 45,588,480, after: 45,588,480, consumed: 0; exec time: 00:00:00\n",
      "fib: memory before: 45,588,480, after: 45,588,480, consumed: 0; exec time: 00:00:00\n",
      "fib: memory before: 45,588,480, after: 45,588,480, consumed: 0; exec time: 00:00:00\n",
      "fib: memory before: 45,588,480, after: 45,588,480, consumed: 0; exec time: 00:00:00\n",
      "fib: memory before: 45,588,480, after: 45,588,480, consumed: 0; exec time: 00:00:00\n",
      "fib: memory before: 45,588,480, after: 45,588,480, consumed: 0; exec time: 00:00:00\n",
      "fib: memory before: 45,588,480, after: 45,588,480, consumed: 0; exec time: 00:00:00\n",
      "fib: memory before: 45,588,480, after: 45,588,480, consumed: 0; exec time: 00:00:00\n",
      "fib: memory before: 45,588,480, after: 45,588,480, consumed: 0; exec time: 00:00:00\n",
      "fib: memory before: 45,588,480, after: 45,588,480, consumed: 0; exec time: 00:00:00\n",
      "fib: memory before: 45,588,480, after: 45,588,480, consumed: 0; exec time: 00:00:00\n",
      "fib: memory before: 45,588,480, after: 45,588,480, consumed: 0; exec time: 00:00:00\n",
      "fib: memory before: 45,588,480, after: 45,588,480, consumed: 0; exec time: 00:00:00\n",
      "fib: memory before: 45,588,480, after: 45,588,480, consumed: 0; exec time: 00:00:00\n",
      "fib: memory before: 45,588,480, after: 45,588,480, consumed: 0; exec time: 00:00:00\n",
      "fib: memory before: 45,588,480, after: 45,588,480, consumed: 0; exec time: 00:00:00\n",
      "fib: memory before: 45,588,480, after: 45,588,480, consumed: 0; exec time: 00:00:00\n",
      "fib: memory before: 45,588,480, after: 45,588,480, consumed: 0; exec time: 00:00:00\n",
      "fib: memory before: 45,588,480, after: 45,588,480, consumed: 0; exec time: 00:00:00\n",
      "fib: memory before: 45,588,480, after: 45,588,480, consumed: 0; exec time: 00:00:00\n",
      "fib: memory before: 45,588,480, after: 45,588,480, consumed: 0; exec time: 00:00:00\n",
      "fib: memory before: 45,588,480, after: 45,588,480, consumed: 0; exec time: 00:00:00\n",
      "fib: memory before: 45,588,480, after: 45,588,480, consumed: 0; exec time: 00:00:00\n",
      "fib: memory before: 45,588,480, after: 45,588,480, consumed: 0; exec time: 00:00:00\n",
      "fib: memory before: 45,588,480, after: 45,588,480, consumed: 0; exec time: 00:00:00\n",
      "fib: memory before: 45,588,480, after: 45,588,480, consumed: 0; exec time: 00:00:00\n",
      "fib: memory before: 45,588,480, after: 45,588,480, consumed: 0; exec time: 00:00:00\n",
      "fib: memory before: 45,588,480, after: 45,588,480, consumed: 0; exec time: 00:00:00\n",
      "fib: memory before: 45,588,480, after: 45,588,480, consumed: 0; exec time: 00:00:00\n",
      "fib: memory before: 45,588,480, after: 45,588,480, consumed: 0; exec time: 00:00:00\n",
      "fib: memory before: 45,588,480, after: 45,588,480, consumed: 0; exec time: 00:00:00\n",
      "fib: memory before: 45,588,480, after: 45,588,480, consumed: 0; exec time: 00:00:00\n",
      "fib: memory before: 45,588,480, after: 45,588,480, consumed: 0; exec time: 00:00:00\n",
      "fib: memory before: 45,588,480, after: 45,588,480, consumed: 0; exec time: 00:00:00\n",
      "fib: memory before: 45,588,480, after: 45,588,480, consumed: 0; exec time: 00:00:00\n",
      "fib: memory before: 45,588,480, after: 45,588,480, consumed: 0; exec time: 00:00:00\n",
      "fib: memory before: 45,588,480, after: 45,588,480, consumed: 0; exec time: 00:00:00\n",
      "fib: memory before: 45,588,480, after: 45,588,480, consumed: 0; exec time: 00:00:00\n",
      "fib: memory before: 45,588,480, after: 45,588,480, consumed: 0; exec time: 00:00:00\n",
      "fib: memory before: 45,588,480, after: 45,588,480, consumed: 0; exec time: 00:00:00\n",
      "fib: memory before: 45,588,480, after: 45,588,480, consumed: 0; exec time: 00:00:00\n",
      "fib: memory before: 45,588,480, after: 45,588,480, consumed: 0; exec time: 00:00:00\n",
      "fib: memory before: 45,588,480, after: 45,588,480, consumed: 0; exec time: 00:00:00\n",
      "fib: memory before: 45,588,480, after: 45,588,480, consumed: 0; exec time: 00:00:00\n",
      "fib: memory before: 45,588,480, after: 45,588,480, consumed: 0; exec time: 00:00:00\n",
      "fib: memory before: 45,588,480, after: 45,588,480, consumed: 0; exec time: 00:00:00\n",
      "fib: memory before: 45,588,480, after: 45,588,480, consumed: 0; exec time: 00:00:00\n",
      "fib: memory before: 45,588,480, after: 45,588,480, consumed: 0; exec time: 00:00:00\n",
      "fib: memory before: 45,588,480, after: 45,588,480, consumed: 0; exec time: 00:00:00\n",
      "fib: memory before: 45,588,480, after: 45,588,480, consumed: 0; exec time: 00:00:00\n",
      "fib: memory before: 45,588,480, after: 45,588,480, consumed: 0; exec time: 00:00:00\n",
      "fib: memory before: 45,588,480, after: 45,588,480, consumed: 0; exec time: 00:00:00\n",
      "fib: memory before: 45,588,480, after: 45,588,480, consumed: 0; exec time: 00:00:00\n",
      "fib: memory before: 45,588,480, after: 45,588,480, consumed: 0; exec time: 00:00:00\n",
      "fib: memory before: 45,588,480, after: 45,588,480, consumed: 0; exec time: 00:00:00\n",
      "fib: memory before: 45,588,480, after: 45,588,480, consumed: 0; exec time: 00:00:00\n",
      "fib: memory before: 45,588,480, after: 45,588,480, consumed: 0; exec time: 00:00:00\n",
      "fib: memory before: 45,588,480, after: 45,588,480, consumed: 0; exec time: 00:00:00\n",
      "fib: memory before: 45,588,480, after: 45,588,480, consumed: 0; exec time: 00:00:00\n",
      "fib: memory before: 45,588,480, after: 45,588,480, consumed: 0; exec time: 00:00:00\n",
      "fib: memory before: 45,588,480, after: 45,588,480, consumed: 0; exec time: 00:00:00\n",
      "fib: memory before: 45,588,480, after: 45,588,480, consumed: 0; exec time: 00:00:00\n",
      "fib: memory before: 45,588,480, after: 45,588,480, consumed: 0; exec time: 00:00:00\n",
      "fib: memory before: 45,588,480, after: 45,588,480, consumed: 0; exec time: 00:00:00\n",
      "fib: memory before: 45,588,480, after: 45,588,480, consumed: 0; exec time: 00:00:00\n",
      "fib: memory before: 45,588,480, after: 45,588,480, consumed: 0; exec time: 00:00:00\n",
      "fib: memory before: 45,588,480, after: 45,588,480, consumed: 0; exec time: 00:00:00\n",
      "fib: memory before: 45,588,480, after: 45,588,480, consumed: 0; exec time: 00:00:00\n",
      "fib: memory before: 45,588,480, after: 45,588,480, consumed: 0; exec time: 00:00:00\n",
      "fib: memory before: 45,588,480, after: 45,588,480, consumed: 0; exec time: 00:00:00\n",
      "fib: memory before: 45,588,480, after: 45,588,480, consumed: 0; exec time: 00:00:00\n",
      "fib: memory before: 45,588,480, after: 45,588,480, consumed: 0; exec time: 00:00:00\n",
      "fib: memory before: 45,588,480, after: 45,588,480, consumed: 0; exec time: 00:00:00\n",
      "fib: memory before: 45,588,480, after: 45,588,480, consumed: 0; exec time: 00:00:00\n",
      "fib: memory before: 45,588,480, after: 45,588,480, consumed: 0; exec time: 00:00:00\n",
      "fib: memory before: 45,588,480, after: 45,588,480, consumed: 0; exec time: 00:00:00\n",
      "fib: memory before: 45,588,480, after: 45,588,480, consumed: 0; exec time: 00:00:00\n",
      "fib: memory before: 45,588,480, after: 45,588,480, consumed: 0; exec time: 00:00:00\n",
      "fib: memory before: 45,588,480, after: 45,588,480, consumed: 0; exec time: 00:00:00\n",
      "fib: memory before: 45,588,480, after: 45,588,480, consumed: 0; exec time: 00:00:00\n",
      "fib: memory before: 45,588,480, after: 45,588,480, consumed: 0; exec time: 00:00:00\n",
      "fib: memory before: 45,588,480, after: 45,588,480, consumed: 0; exec time: 00:00:00\n",
      "fib: memory before: 45,588,480, after: 45,588,480, consumed: 0; exec time: 00:00:00\n",
      "fib: memory before: 45,588,480, after: 45,588,480, consumed: 0; exec time: 00:00:00\n",
      "fib: memory before: 45,588,480, after: 45,588,480, consumed: 0; exec time: 00:00:00\n",
      "fib: memory before: 45,588,480, after: 45,588,480, consumed: 0; exec time: 00:00:00\n",
      "fib: memory before: 45,588,480, after: 45,588,480, consumed: 0; exec time: 00:00:00\n",
      "fib: memory before: 45,588,480, after: 45,588,480, consumed: 0; exec time: 00:00:00\n",
      "fib: memory before: 45,588,480, after: 45,588,480, consumed: 0; exec time: 00:00:00\n",
      "fib: memory before: 45,588,480, after: 45,588,480, consumed: 0; exec time: 00:00:00\n",
      "fib: memory before: 45,588,480, after: 45,588,480, consumed: 0; exec time: 00:00:00\n",
      "fib: memory before: 45,588,480, after: 45,588,480, consumed: 0; exec time: 00:00:00\n",
      "fib: memory before: 45,588,480, after: 45,588,480, consumed: 0; exec time: 00:00:00\n",
      "fib: memory before: 45,588,480, after: 45,588,480, consumed: 0; exec time: 00:00:00\n",
      "fib: memory before: 45,588,480, after: 45,588,480, consumed: 0; exec time: 00:00:00\n",
      "fib: memory before: 45,588,480, after: 45,588,480, consumed: 0; exec time: 00:00:00\n",
      "fib: memory before: 45,588,480, after: 45,588,480, consumed: 0; exec time: 00:00:00\n",
      "fib: memory before: 45,588,480, after: 45,588,480, consumed: 0; exec time: 00:00:00\n",
      "fib: memory before: 45,588,480, after: 45,588,480, consumed: 0; exec time: 00:00:00\n",
      "fib: memory before: 45,588,480, after: 45,588,480, consumed: 0; exec time: 00:00:00\n",
      "fib: memory before: 45,588,480, after: 45,588,480, consumed: 0; exec time: 00:00:00\n",
      "fib: memory before: 45,588,480, after: 45,588,480, consumed: 0; exec time: 00:00:00\n",
      "fib: memory before: 45,588,480, after: 45,588,480, consumed: 0; exec time: 00:00:00\n",
      "fib: memory before: 45,588,480, after: 45,588,480, consumed: 0; exec time: 00:00:00\n",
      "fib: memory before: 45,588,480, after: 45,588,480, consumed: 0; exec time: 00:00:00\n",
      "fib: memory before: 45,588,480, after: 45,588,480, consumed: 0; exec time: 00:00:00\n",
      "fib: memory before: 45,588,480, after: 45,588,480, consumed: 0; exec time: 00:00:00\n",
      "fib: memory before: 45,588,480, after: 45,588,480, consumed: 0; exec time: 00:00:00\n",
      "fib: memory before: 45,588,480, after: 45,588,480, consumed: 0; exec time: 00:00:00\n",
      "fib: memory before: 45,588,480, after: 45,588,480, consumed: 0; exec time: 00:00:00\n",
      "fib: memory before: 45,588,480, after: 45,588,480, consumed: 0; exec time: 00:00:00\n",
      "fib: memory before: 45,588,480, after: 45,588,480, consumed: 0; exec time: 00:00:00\n",
      "fib: memory before: 45,588,480, after: 45,588,480, consumed: 0; exec time: 00:00:00\n",
      "fib: memory before: 45,588,480, after: 45,588,480, consumed: 0; exec time: 00:00:00\n",
      "fib: memory before: 45,588,480, after: 45,588,480, consumed: 0; exec time: 00:00:00\n",
      "fib: memory before: 45,588,480, after: 45,588,480, consumed: 0; exec time: 00:00:00\n",
      "fib: memory before: 45,588,480, after: 45,588,480, consumed: 0; exec time: 00:00:00\n",
      "fib: memory before: 45,588,480, after: 45,588,480, consumed: 0; exec time: 00:00:00\n",
      "fib: memory before: 45,588,480, after: 45,588,480, consumed: 0; exec time: 00:00:00\n",
      "fib: memory before: 45,588,480, after: 45,588,480, consumed: 0; exec time: 00:00:00\n",
      "fib: memory before: 45,588,480, after: 45,588,480, consumed: 0; exec time: 00:00:00\n",
      "fib: memory before: 45,588,480, after: 45,588,480, consumed: 0; exec time: 00:00:00\n",
      "fib: memory before: 45,588,480, after: 45,588,480, consumed: 0; exec time: 00:00:00\n",
      "fib: memory before: 45,588,480, after: 45,588,480, consumed: 0; exec time: 00:00:00\n",
      "fib: memory before: 45,588,480, after: 45,588,480, consumed: 0; exec time: 00:00:00\n",
      "fib: memory before: 45,588,480, after: 45,588,480, consumed: 0; exec time: 00:00:00\n",
      "fib: memory before: 45,588,480, after: 45,588,480, consumed: 0; exec time: 00:00:00\n",
      "fib: memory before: 45,588,480, after: 45,588,480, consumed: 0; exec time: 00:00:00\n",
      "fib: memory before: 45,588,480, after: 45,588,480, consumed: 0; exec time: 00:00:00\n",
      "fib: memory before: 45,588,480, after: 45,588,480, consumed: 0; exec time: 00:00:00\n",
      "fib: memory before: 45,588,480, after: 45,588,480, consumed: 0; exec time: 00:00:00\n",
      "fib: memory before: 45,588,480, after: 45,588,480, consumed: 0; exec time: 00:00:00\n",
      "fib: memory before: 45,588,480, after: 45,588,480, consumed: 0; exec time: 00:00:00\n",
      "fib: memory before: 45,588,480, after: 45,588,480, consumed: 0; exec time: 00:00:00\n",
      "fib: memory before: 45,588,480, after: 45,588,480, consumed: 0; exec time: 00:00:00\n",
      "fib: memory before: 45,588,480, after: 45,588,480, consumed: 0; exec time: 00:00:00\n",
      "fib: memory before: 45,588,480, after: 45,588,480, consumed: 0; exec time: 00:00:00\n",
      "fib: memory before: 45,588,480, after: 45,588,480, consumed: 0; exec time: 00:00:00\n",
      "fib: memory before: 45,588,480, after: 45,588,480, consumed: 0; exec time: 00:00:00\n",
      "fib: memory before: 45,588,480, after: 45,588,480, consumed: 0; exec time: 00:00:00\n"
     ]
    },
    {
     "data": {
      "text/plain": [
       "55"
      ]
     },
     "execution_count": 7,
     "metadata": {},
     "output_type": "execute_result"
    }
   ],
   "source": [
    "fib(10)"
   ]
  },
  {
   "cell_type": "code",
   "execution_count": 5,
   "metadata": {},
   "outputs": [
    {
     "name": "stdout",
     "output_type": "stream",
     "text": [
      "Y_fib: memory before: 45,506,560, after: 45,506,560, consumed: 0; exec time: 00:00:00\n"
     ]
    },
    {
     "data": {
      "text/plain": [
       "55"
      ]
     },
     "execution_count": 5,
     "metadata": {},
     "output_type": "execute_result"
    }
   ],
   "source": [
    "Y_fib(10)"
   ]
  },
  {
   "cell_type": "code",
   "execution_count": 11,
   "metadata": {},
   "outputs": [
    {
     "name": "stdout",
     "output_type": "stream",
     "text": [
      "Y_fib: memory before: 45,670,400, after: 45,670,400, consumed: 0; exec time: 00:00:00\n",
      "         142 function calls in 0.009 seconds\n",
      "\n",
      "   Ordered by: cumulative time\n",
      "\n",
      "   ncalls  tottime  percall  cumtime  percall filename:lineno(function)\n",
      "        2    0.000    0.000    0.009    0.004 /home/harold/anaconda3/envs/test/lib/python3.6/site-packages/IPython/core/interactiveshell.py:2933(run_code)\n",
      "        2    0.000    0.000    0.009    0.004 {built-in method builtins.exec}\n",
      "        1    0.000    0.000    0.009    0.009 <ipython-input-11-f3877f982188>:6(<module>)\n",
      "        1    0.000    0.000    0.009    0.009 <ipython-input-2-4704fb53517f>:18(wrapper)\n",
      "        2    0.000    0.000    0.005    0.003 <ipython-input-2-4704fb53517f>:12(get_process_memory)\n",
      "        4    0.000    0.000    0.005    0.001 /home/harold/anaconda3/envs/test/lib/python3.6/site-packages/psutil/_pslinux.py:1399(wrapper)\n",
      "        4    0.000    0.000    0.005    0.001 /home/harold/anaconda3/envs/test/lib/python3.6/site-packages/psutil/_common.py:334(wrapper)\n",
      "        2    0.000    0.000    0.004    0.002 /home/harold/anaconda3/envs/test/lib/python3.6/site-packages/psutil/__init__.py:1039(memory_info)\n",
      "        2    0.000    0.000    0.004    0.002 /home/harold/anaconda3/envs/test/lib/python3.6/site-packages/psutil/_pslinux.py:1593(memory_info)\n",
      "        1    0.000    0.000    0.003    0.003 {built-in method builtins.print}\n",
      "        2    0.000    0.000    0.003    0.002 /home/harold/anaconda3/envs/test/lib/python3.6/site-packages/ipykernel/iostream.py:366(write)\n",
      "        3    0.002    0.001    0.003    0.001 /home/harold/anaconda3/envs/test/lib/python3.6/site-packages/ipykernel/iostream.py:195(schedule)\n",
      "        2    0.003    0.002    0.003    0.002 {method 'readline' of '_io.BufferedReader' objects}\n",
      "        2    0.000    0.000    0.001    0.001 /home/harold/anaconda3/envs/test/lib/python3.6/site-packages/psutil/__init__.py:339(__init__)\n",
      "        2    0.000    0.000    0.001    0.001 /home/harold/anaconda3/envs/test/lib/python3.6/site-packages/psutil/__init__.py:342(_init)\n",
      "        2    0.000    0.000    0.001    0.001 /home/harold/anaconda3/envs/test/lib/python3.6/site-packages/psutil/__init__.py:692(create_time)\n",
      "        2    0.000    0.000    0.001    0.001 /home/harold/anaconda3/envs/test/lib/python3.6/site-packages/psutil/_pslinux.py:1582(create_time)\n",
      "        3    0.001    0.000    0.001    0.000 /home/harold/anaconda3/envs/test/lib/python3.6/site-packages/zmq/sugar/socket.py:333(send)\n",
      "        2    0.000    0.000    0.001    0.000 /home/harold/anaconda3/envs/test/lib/python3.6/site-packages/psutil/_pslinux.py:1431(_parse_stat_file)\n",
      "        2    0.001    0.000    0.001    0.000 /home/harold/anaconda3/envs/test/lib/python3.6/site-packages/psutil/_pslinux.py:1608(<listcomp>)\n",
      "        4    0.000    0.000    0.000    0.000 /home/harold/anaconda3/envs/test/lib/python3.6/site-packages/psutil/_pslinux.py:186(open_binary)\n",
      "        2    0.000    0.000    0.000    0.000 /home/harold/anaconda3/envs/test/lib/python3.6/site-packages/ipykernel/iostream.py:313(_schedule_flush)\n",
      "        4    0.000    0.000    0.000    0.000 {built-in method io.open}\n",
      "        2    0.000    0.000    0.000    0.000 {method 'read' of '_io.BufferedReader' objects}\n",
      "        2    0.000    0.000    0.000    0.000 /home/harold/anaconda3/envs/test/lib/python3.6/codeop.py:132(__call__)\n",
      "        1    0.000    0.000    0.000    0.000 <ipython-input-2-4704fb53517f>:8(elapsed_since)\n",
      "        2    0.000    0.000    0.000    0.000 {built-in method builtins.compile}\n",
      "        1    0.000    0.000    0.000    0.000 {built-in method time.gmtime}\n",
      "        1    0.000    0.000    0.000    0.000 <ipython-input-6-d1daac20e56a>:10(Y_fib)\n",
      "        3    0.000    0.000    0.000    0.000 /home/harold/anaconda3/envs/test/lib/python3.6/threading.py:1104(is_alive)\n",
      "        2    0.000    0.000    0.000    0.000 <string>:12(__new__)\n",
      "        4    0.000    0.000    0.000    0.000 {method 'split' of 'bytes' objects}\n",
      "        3    0.000    0.000    0.000    0.000 /home/harold/anaconda3/envs/test/lib/python3.6/threading.py:1062(_wait_for_tstate_lock)\n",
      "        2    0.000    0.000    0.000    0.000 /home/harold/anaconda3/envs/test/lib/python3.6/site-packages/psutil/_pslinux.py:1425(__init__)\n",
      "        1    0.000    0.000    0.000    0.000 {method 'format' of 'str' objects}\n",
      "        1    0.000    0.000    0.000    0.000 {built-in method time.strftime}\n",
      "        3    0.000    0.000    0.000    0.000 {method 'acquire' of '_thread.lock' objects}\n",
      "        1    0.000    0.000    0.000    0.000 <ipython-input-11-f3877f982188>:7(<module>)\n",
      "        2    0.000    0.000    0.000    0.000 /home/harold/anaconda3/envs/test/lib/python3.6/site-packages/ipykernel/iostream.py:300(_is_master_process)\n",
      "        2    0.000    0.000    0.000    0.000 /home/harold/anaconda3/envs/test/lib/python3.6/site-packages/IPython/core/hooks.py:142(__call__)\n",
      "       22    0.000    0.000    0.000    0.000 <ipython-input-6-d1daac20e56a>:12(f)\n",
      "        3    0.000    0.000    0.000    0.000 /home/harold/anaconda3/envs/test/lib/python3.6/site-packages/ipykernel/iostream.py:93(_event_pipe)\n",
      "        2    0.000    0.000    0.000    0.000 {method 'rfind' of 'bytes' objects}\n",
      "        2    0.000    0.000    0.000    0.000 {built-in method __new__ of type object at 0x56463e3a0d60}\n",
      "        2    0.000    0.000    0.000    0.000 /home/harold/anaconda3/envs/test/lib/python3.6/site-packages/psutil/_pslinux.py:212(get_procfs_path)\n",
      "        2    0.000    0.000    0.000    0.000 /home/harold/anaconda3/envs/test/lib/python3.6/site-packages/IPython/utils/ipstruct.py:125(__getattr__)\n",
      "        4    0.000    0.000    0.000    0.000 {built-in method posix.getpid}\n",
      "        2    0.000    0.000    0.000    0.000 {method 'find' of 'bytes' objects}\n",
      "        2    0.000    0.000    0.000    0.000 {built-in method builtins.isinstance}\n",
      "        2    0.000    0.000    0.000    0.000 /home/harold/anaconda3/envs/test/lib/python3.6/site-packages/psutil/__init__.py:427(pid)\n",
      "        2    0.000    0.000    0.000    0.000 /home/harold/anaconda3/envs/test/lib/python3.6/site-packages/IPython/core/interactiveshell.py:1104(user_global_ns)\n",
      "        3    0.000    0.000    0.000    0.000 /home/harold/anaconda3/envs/test/lib/python3.6/threading.py:506(is_set)\n",
      "        2    0.000    0.000    0.000    0.000 {built-in method time.time}\n",
      "        1    0.000    0.000    0.000    0.000 {method 'disable' of '_lsprof.Profiler' objects}\n",
      "        2    0.000    0.000    0.000    0.000 /home/harold/anaconda3/envs/test/lib/python3.6/site-packages/IPython/core/hooks.py:207(pre_run_code_hook)\n",
      "        3    0.000    0.000    0.000    0.000 {method 'append' of 'collections.deque' objects}\n",
      "\n",
      "\n",
      "\n"
     ]
    }
   ],
   "source": [
    "# https://docs.python.org/3.5/library/profile.html\n",
    "'''\n",
    " class profile.Profile(timer=None, timeunit=0.0, subcalls=True, builtins=True)\n",
    "\n",
    "    This class is normally only used if more precise control over profiling is needed than what the cProfile.run() \n",
    "    function provides.\n",
    "\n",
    "    A custom timer can be supplied for measuring how long code takes to run via the timer argument. This must be a \n",
    "    function that returns a single number representing the current time. If the number is an integer, the timeunit \n",
    "    specifies a multiplier that specifies the duration of each unit of time. For example, if the timer returns times \n",
    "    measured in thousands of seconds, the time unit would be .001.\n",
    "\n",
    "    Directly using the Profile class allows formatting profile results without writing the profile data to a file:\n",
    "\n",
    "'''\n",
    "import cProfile, pstats, io\n",
    "\n",
    "\n",
    "pr = cProfile.Profile()\n",
    "pr.enable() # Start collecting profiling data.\n",
    "Y_fib(20)\n",
    "pr.disable() # Stop collecting profiling data.\n",
    "s = io.StringIO()\n",
    "sortby = 'cumulative'\n",
    "ps = pstats.Stats(pr, stream=s).sort_stats(sortby)\n",
    "ps.print_stats() # Create a Stats object based on the current profile and print the results to stdout.\n",
    "print(s.getvalue())"
   ]
  },
  {
   "cell_type": "code",
   "execution_count": null,
   "metadata": {},
   "outputs": [],
   "source": []
  }
 ],
 "metadata": {
  "kernelspec": {
   "display_name": "Python 3",
   "language": "python",
   "name": "python3"
  },
  "language_info": {
   "codemirror_mode": {
    "name": "ipython",
    "version": 3
   },
   "file_extension": ".py",
   "mimetype": "text/x-python",
   "name": "python",
   "nbconvert_exporter": "python",
   "pygments_lexer": "ipython3",
   "version": "3.6.5"
  }
 },
 "nbformat": 4,
 "nbformat_minor": 2
}
